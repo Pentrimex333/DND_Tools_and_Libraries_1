{
 "cells": [
  {
   "cell_type": "markdown",
   "metadata": {},
   "source": [
    "## Monster Encounter Randomizer\n",
    "\n",
    "### Build a Function that stores Monster dictionaries in a list for future sorting\n",
    "\n",
    "Possible Ideas:\n",
    "\n",
    "- Sort each dictionary (monster_list_x) by type of creature, then see if you can create a tuple which stores all of the dictionaries; this would hard-code the dictionaries so they couldn't be messed with when running the tuple, but that might make things more difficult if you need the dictionaries to be more flexible."
   ]
  },
  {
   "cell_type": "code",
   "execution_count": 4,
   "metadata": {},
   "outputs": [],
   "source": [
    "# start with understanding the basic outline of each monster's dictionary\n",
    "monster_list_1 = {}\n",
    "def create_monster(new_monster_name): #new_monster_name must be string values\n",
    "    new_monster_dict = {}\n",
    "    creature_type = input('What is the creature type? ')\n",
    "    hp = int(input('What is the HP of the creature? '))\n",
    "    armor = int(input('What is the AC of the creature? '))\n",
    "    speed = input('What is the speed of the creature? ')\n",
    "    xp = int(input('How much XP is the creature worth? '))\n",
    "    terrain = input('What terrain does this creature prefer?' )\n",
    "    book = input('Where is the info for this creature located? ')\n",
    "    \n",
    "    new_monster_dict['Type'] = creature_type.title()\n",
    "    new_monster_dict['HP'] = hp\n",
    "    new_monster_dict['AC'] = armor \n",
    "    new_monster_dict['Speed'] = speed.title()\n",
    "    new_monster_dict['XP'] = xp \n",
    "    new_monster_dict['Located'] = terrain.title()\n",
    "    new_monster_dict['Book'] = book.upper()\n",
    "    \n",
    "    monster_list_1[new_monster_name] = new_monster_dict # Makes dictionary entry\n",
    "# with new_monster_name as the key and new_monster_dict as the value.   \n",
    "    \n",
    "    return monster_list_1"
   ]
  },
  {
   "cell_type": "code",
   "execution_count": 6,
   "metadata": {},
   "outputs": [
    {
     "name": "stdout",
     "output_type": "stream",
     "text": [
      "What is the creature type? dragon\n",
      "What is the HP of the creature? 33\n",
      "What is the AC of the creature? 17\n",
      "What is the speed of the creature? 30 ft, fly 60 ft, swim 30 ft\n",
      "How much XP is the creature worth? 450\n",
      "What terrain does this creature prefer?swamp\n",
      "Where is the info for this creature located? mm 88\n",
      "{'Kobold': {'Type': 'Humanoid', 'HP': 5, 'AC': 12, 'Speed': '30 Ft', 'XP': 25, 'Located': 'Mountain', 'Book': 'MM 195'}, 'Black Dragon Wyrmling': {'Type': 'Dragon', 'HP': 33, 'AC': 17, 'Speed': '30 Ft, Fly 60 Ft, Swim 30 Ft', 'XP': 450, 'Located': 'Swamp', 'Book': 'MM 88'}}\n"
     ]
    }
   ],
   "source": [
    "create_monster('Black Dragon Wyrmling')\n",
    "print(monster_list_1)"
   ]
  },
  {
   "cell_type": "code",
   "execution_count": null,
   "metadata": {},
   "outputs": [],
   "source": []
  }
 ],
 "metadata": {
  "kernelspec": {
   "display_name": "Python 3",
   "language": "python",
   "name": "python3"
  },
  "language_info": {
   "codemirror_mode": {
    "name": "ipython",
    "version": 3
   },
   "file_extension": ".py",
   "mimetype": "text/x-python",
   "name": "python",
   "nbconvert_exporter": "python",
   "pygments_lexer": "ipython3",
   "version": "3.7.3"
  }
 },
 "nbformat": 4,
 "nbformat_minor": 2
}
